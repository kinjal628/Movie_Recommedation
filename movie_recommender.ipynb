{
 "cells": [
  {
   "cell_type": "code",
   "execution_count": 6,
   "id": "e8e18664-535f-4fab-9fa3-54cc521be4fc",
   "metadata": {},
   "outputs": [],
   "source": [
    "import pandas as pd\n",
    "from sklearn.metrics.pairwise import cosine_similarity\n",
    "from sklearn.feature_extraction.text import CountVectorizer\n"
   ]
  },
  {
   "cell_type": "code",
   "execution_count": 7,
   "id": "34ee5409",
   "metadata": {},
   "outputs": [
    {
     "data": {
      "text/html": [
       "<div>\n",
       "<style scoped>\n",
       "    .dataframe tbody tr th:only-of-type {\n",
       "        vertical-align: middle;\n",
       "    }\n",
       "\n",
       "    .dataframe tbody tr th {\n",
       "        vertical-align: top;\n",
       "    }\n",
       "\n",
       "    .dataframe thead th {\n",
       "        text-align: right;\n",
       "    }\n",
       "</style>\n",
       "<table border=\"1\" class=\"dataframe\">\n",
       "  <thead>\n",
       "    <tr style=\"text-align: right;\">\n",
       "      <th></th>\n",
       "      <th>movieId</th>\n",
       "      <th>title</th>\n",
       "      <th>genres</th>\n",
       "    </tr>\n",
       "  </thead>\n",
       "  <tbody>\n",
       "    <tr>\n",
       "      <th>0</th>\n",
       "      <td>1</td>\n",
       "      <td>Toy Story (1995)</td>\n",
       "      <td>Adventure|Animation|Children|Comedy|Fantasy</td>\n",
       "    </tr>\n",
       "    <tr>\n",
       "      <th>1</th>\n",
       "      <td>2</td>\n",
       "      <td>Jumanji (1995)</td>\n",
       "      <td>Adventure|Children|Fantasy</td>\n",
       "    </tr>\n",
       "    <tr>\n",
       "      <th>2</th>\n",
       "      <td>3</td>\n",
       "      <td>Grumpier Old Men (1995)</td>\n",
       "      <td>Comedy|Romance</td>\n",
       "    </tr>\n",
       "    <tr>\n",
       "      <th>3</th>\n",
       "      <td>4</td>\n",
       "      <td>Waiting to Exhale (1995)</td>\n",
       "      <td>Comedy|Drama|Romance</td>\n",
       "    </tr>\n",
       "    <tr>\n",
       "      <th>4</th>\n",
       "      <td>5</td>\n",
       "      <td>Father of the Bride Part II (1995)</td>\n",
       "      <td>Comedy</td>\n",
       "    </tr>\n",
       "  </tbody>\n",
       "</table>\n",
       "</div>"
      ],
      "text/plain": [
       "   movieId                               title  \\\n",
       "0        1                    Toy Story (1995)   \n",
       "1        2                      Jumanji (1995)   \n",
       "2        3             Grumpier Old Men (1995)   \n",
       "3        4            Waiting to Exhale (1995)   \n",
       "4        5  Father of the Bride Part II (1995)   \n",
       "\n",
       "                                        genres  \n",
       "0  Adventure|Animation|Children|Comedy|Fantasy  \n",
       "1                   Adventure|Children|Fantasy  \n",
       "2                               Comedy|Romance  \n",
       "3                         Comedy|Drama|Romance  \n",
       "4                                       Comedy  "
      ]
     },
     "execution_count": 7,
     "metadata": {},
     "output_type": "execute_result"
    }
   ],
   "source": [
    "movies = pd.read_csv(r'C:\\Users\\hp\\OneDrive\\Documents\\Desktop\\movie recommnedation\\ml-latest-small\\movies.csv')\n",
    "movies.head()  # optional: see first rows\n"
   ]
  },
  {
   "cell_type": "code",
   "execution_count": null,
   "id": "d560d2be",
   "metadata": {},
   "outputs": [],
   "source": [
    "def recommend_movies_by_name(movie_name, top_n=5, genre_filter=None):\n",
    "    if genre_filter:\n",
    "        filtered_movies = movies[movies['genres'].str.contains(genre_filter, case=False, na=False)]\n",
    "    else:\n",
    "        filtered_movies = movies.copy()\n",
    "    \n",
    "    if movie_name not in filtered_movies['title'].values:\n",
    "        return f\"Movie '{movie_name}' not found in the dataset (or genre filter removed it).\"\n",
    "    \n",
    "    count = CountVectorizer()\n",
    "    count_matrix = count.fit_transform(filtered_movies['title'])\n",
    "    cosine_sim = cosine_similarity(count_matrix, count_matrix)\n",
    "    \n",
    "    idx = filtered_movies[filtered_movies['title'] == movie_name].index[0]\n",
    "    sim_scores = list(enumerate(cosine_sim[idx]))\n",
    "    sim_scores = sorted(sim_scores, key=lambda x: x[1], reverse=True)\n",
    "    sim_scores = sim_scores[1:top_n+1]\n",
    "    movie_indices = [i[0] for i in sim_scores]\n",
    "    return filtered_movies['title'].iloc[movie_indices]\n"
   ]
  },
  {
   "cell_type": "code",
   "execution_count": 9,
   "id": "67653676",
   "metadata": {},
   "outputs": [
    {
     "name": "stdout",
     "output_type": "stream",
     "text": [
      "Top 3 Horror recommendations for 'Toy Story (1995)':\n",
      "Movie 'Toy Story (1995)' not found in the dataset (or genre filter removed it).\n",
      "\n",
      "Top 5 Sci-Fi recommendations for 'Star Wars: Episode IV - A New Hope (1977)':\n",
      "2760                    Running Man, The (1987)\n",
      "5533                 G.I. Joe: The Movie (1987)\n",
      "3080             Masters of the Universe (1987)\n",
      "3045            Amazon Women on the Moon (1987)\n",
      "1989    Superman IV: The Quest for Peace (1987)\n",
      "Name: title, dtype: object\n",
      "\n",
      "Top 5 recommendations without genre filter:\n",
      "216        I.Q. (1994)\n",
      "343      S.F.W. (1994)\n",
      "48     Lamerica (1994)\n",
      "122     Amateur (1994)\n",
      "135       Crumb (1994)\n",
      "Name: title, dtype: object\n"
     ]
    }
   ],
   "source": [
    "print(\"Top 3 Horror recommendations for 'Toy Story (1995)':\")\n",
    "print(recommend_movies_by_name('Toy Story (1995)', top_n=3, genre_filter='Horror'))\n",
    "\n",
    "print(\"\\nTop 5 Sci-Fi recommendations for 'Star Wars: Episode IV - A New Hope (1977)':\")\n",
    "print(recommend_movies_by_name('Star Wars: Episode IV - A New Hope (1977)', top_n=5, genre_filter='Sci-Fi'))\n",
    "\n",
    "print(\"\\nTop 5 recommendations without genre filter:\")\n",
    "print(recommend_movies_by_name('Forrest Gump (1994)', top_n=5))\n"
   ]
  },
  {
   "cell_type": "code",
   "execution_count": 13,
   "id": "c15e3993",
   "metadata": {},
   "outputs": [
    {
     "name": "stdout",
     "output_type": "stream",
     "text": [
      "2355                   Toy Story 2 (1999)\n",
      "7355                   Toy Story 3 (2010)\n",
      "256     Pyromaniac's Love Story, A (1995)\n",
      "Name: title, dtype: object\n"
     ]
    }
   ],
   "source": [
    "print(recommend_movies_by_name('Toy Story (1995)', top_n=3))\n"
   ]
  },
  {
   "cell_type": "code",
   "execution_count": null,
   "id": "083f3783",
   "metadata": {},
   "outputs": [],
   "source": []
  }
 ],
 "metadata": {
  "kernelspec": {
   "display_name": "venv",
   "language": "python",
   "name": "python3"
  },
  "language_info": {
   "codemirror_mode": {
    "name": "ipython",
    "version": 3
   },
   "file_extension": ".py",
   "mimetype": "text/x-python",
   "name": "python",
   "nbconvert_exporter": "python",
   "pygments_lexer": "ipython3",
   "version": "3.13.2"
  }
 },
 "nbformat": 4,
 "nbformat_minor": 5
}
